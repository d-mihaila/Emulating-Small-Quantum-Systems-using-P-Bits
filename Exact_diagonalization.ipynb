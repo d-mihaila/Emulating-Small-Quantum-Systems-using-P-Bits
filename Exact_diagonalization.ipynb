{
 "cells": [
  {
   "cell_type": "code",
   "execution_count": 14,
   "metadata": {},
   "outputs": [
    {
     "name": "stdout",
     "output_type": "stream",
     "text": [
      "Ground State Energy: -44.91393283371542\n"
     ]
    }
   ],
   "source": [
    "import netket as nk\n",
    "\n",
    "# define the graph\n",
    "L = 4\n",
    "g = nk.graph.Grid(extent=[L, L], pbc=True)\n",
    "\n",
    "# define the spin 1/2 Hilbert space \n",
    "hi = nk.hilbert.Spin(s=0.5, N=g.n_nodes)\n",
    "\n",
    "# define the Heisenberg Hamiltonian\n",
    "ha = nk.operator.Heisenberg(hilbert=hi, graph=g)\n",
    "\n",
    "# perform ED\n",
    "evals = nk.exact.lanczos_ed(ha, compute_eigenvectors=False)\n",
    "\n",
    "# get ground-state energy (we only need the lowest energy, and do not need the eigenstate)\n",
    "evals = nk.exact.lanczos_ed(ha, compute_eigenvectors=False)\n",
    "energy = evals[0]\n",
    "\n",
    "print(\"Ground State Energy:\", energy)\n"
   ]
  }
 ],
 "metadata": {
  "kernelspec": {
   "display_name": "DeepLearning",
   "language": "python",
   "name": "python3"
  },
  "language_info": {
   "codemirror_mode": {
    "name": "ipython",
    "version": 3
   },
   "file_extension": ".py",
   "mimetype": "text/x-python",
   "name": "python",
   "nbconvert_exporter": "python",
   "pygments_lexer": "ipython3",
   "version": "3.11.5"
  }
 },
 "nbformat": 4,
 "nbformat_minor": 2
}
