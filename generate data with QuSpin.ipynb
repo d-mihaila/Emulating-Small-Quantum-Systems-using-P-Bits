{
  "nbformat": 4,
  "nbformat_minor": 0,
  "metadata": {
    "colab": {
      "provenance": []
    },
    "kernelspec": {
      "name": "python3",
      "display_name": "Python 3"
    },
    "language_info": {
      "name": "python"
    }
  },
  "cells": [
    {
      "cell_type": "code",
      "source": [
        "!pip install -q condacolab\n",
        "import condacolab\n",
        "condacolab.install()"
      ],
      "metadata": {
        "colab": {
          "base_uri": "https://localhost:8080/"
        },
        "id": "hJLMY4FSTVbA",
        "outputId": "037620c1-df3d-457a-a264-2c55c66ca5a6"
      },
      "execution_count": 1,
      "outputs": [
        {
          "output_type": "stream",
          "name": "stdout",
          "text": [
            "\u001b[33mWARNING: Running pip as the 'root' user can result in broken permissions and conflicting behaviour with the system package manager. It is recommended to use a virtual environment instead: https://pip.pypa.io/warnings/venv\u001b[0m\u001b[33m\n",
            "\u001b[0m✨🍰✨ Everything looks OK!\n"
          ]
        }
      ]
    },
    {
      "cell_type": "code",
      "execution_count": 2,
      "metadata": {
        "colab": {
          "base_uri": "https://localhost:8080/"
        },
        "id": "bcTaNdSqSZi1",
        "outputId": "ac182ef7-9850-4ec4-ae7c-6e514bd8b999"
      },
      "outputs": [
        {
          "output_type": "stream",
          "name": "stdout",
          "text": [
            "Collecting package metadata (current_repodata.json): - \b\b\\ \b\b| \b\b/ \b\b- \b\b\\ \b\b| \b\b/ \b\b- \b\b\\ \b\b| \b\b/ \b\b- \b\b\\ \b\b| \b\b/ \b\b- \b\b\\ \b\b| \b\b/ \b\b- \b\b\\ \b\b| \b\b/ \b\b- \b\b\\ \b\b| \b\b/ \b\b- \b\b\\ \b\b| \b\b/ \b\b- \b\b\\ \b\b| \b\b/ \b\b- \b\b\\ \b\b| \b\b/ \b\b- \b\b\\ \b\b| \b\b/ \b\b- \b\b\\ \b\b| \b\b/ \b\b- \b\b\\ \b\b| \b\b/ \b\b- \b\b\\ \b\b| \b\b/ \b\b- \b\b\\ \b\b| \b\b/ \b\b- \b\b\\ \b\b| \b\b/ \b\b- \b\b\\ \b\b| \b\b/ \b\b- \b\b\\ \b\b| \b\b/ \b\b- \b\b\\ \b\b| \b\b/ \b\b- \b\b\\ \b\b| \b\b/ \b\b- \b\b\\ \b\b| \b\b/ \b\b- \b\b\\ \b\b| \b\b/ \b\b- \b\b\\ \b\b| \b\b/ \b\b- \b\b\\ \b\b| \b\b/ \b\b- \b\b\\ \b\b| \b\b/ \b\b- \b\b\\ \b\b| \b\b/ \b\b- \b\b\\ \b\b| \b\b/ \b\b- \b\b\\ \b\b| \b\b/ \b\b- \b\b\\ \b\b| \b\b/ \b\b- \b\b\\ \b\b| \b\b/ \b\b- \b\b\\ \b\b| \b\b/ \b\b- \b\b\\ \b\b| \b\b/ \b\b- \b\b\\ \b\b| \b\b/ \b\b- \b\b\\ \b\b| \b\b/ \b\b- \b\b\\ \b\b| \b\b/ \b\b- \b\b\\ \b\b| \b\b/ \b\b- \b\b\\ \b\b| \b\b/ \b\b- \b\b\\ \b\b| \b\b/ \b\b- \b\b\\ \b\b| \b\b/ \b\b- \b\b\\ \b\b| \b\b/ \b\b- \b\b\\ \b\b| \b\b/ \b\b- \b\b\\ \b\b| \b\b/ \b\b- \b\b\\ \b\b| \b\b/ \b\b- \b\b\\ \b\b| \b\b/ \b\b- \b\b\\ \b\b| \b\b/ \b\b- \b\b\\ \b\b| \b\b/ \b\b- \b\b\\ \b\b| \b\b/ \b\b- \b\b\\ \b\b| \b\b/ \b\b- \b\b\\ \b\b| \b\b/ \b\b- \b\b\\ \b\b| \b\b/ \b\b- \b\b\\ \b\b| \b\b/ \b\b- \b\b\\ \b\b| \b\b/ \b\b- \b\b\\ \b\b| \b\b/ \b\b- \b\b\\ \b\b| \b\b/ \b\b- \b\b\\ \b\b| \b\b/ \b\b- \b\b\\ \b\b| \b\b/ \b\b- \b\b\\ \b\b| \b\b/ \b\b- \b\b\\ \b\b| \b\b/ \b\b- \b\b\\ \b\b| \b\b/ \b\b- \b\b\\ \b\b| \b\b/ \b\b- \b\b\\ \b\b| \b\b/ \b\b- \b\b\\ \b\b| \b\b/ \b\b- \b\b\\ \b\b| \b\b/ \b\b- \b\b\\ \b\b| \b\b/ \b\b- \b\b\\ \b\b| \b\b/ \b\b- \b\b\\ \b\b| \b\b/ \b\b- \b\b\\ \b\b| \b\b/ \b\b- \b\b\\ \b\b| \b\b/ \b\b- \b\b\\ \b\b| \b\b/ \b\b- \b\b\\ \b\b| \b\b/ \b\b- \b\b\\ \b\b| \b\b/ \b\b- \b\b\\ \b\b| \b\b/ \b\b- \b\b\\ \b\b| \b\b/ \b\b- \b\b\\ \b\b| \b\b/ \b\b- \b\b\\ \b\b| \b\b/ \b\b- \b\b\\ \b\b| \b\b/ \b\b- \b\b\\ \b\b| \b\b/ \b\b- \b\b\\ \b\b| \b\b/ \b\b- \b\b\\ \b\b| \b\b/ \b\bdone\n",
            "Solving environment: \\ \b\b| \b\b/ \b\b- \b\b\\ \b\b| \b\b/ \b\b- \b\b\\ \b\b| \b\b/ \b\b- \b\b\\ \b\b| \b\b/ \b\b- \b\b\\ \b\b| \b\b/ \b\b- \b\b\\ \b\b| \b\b/ \b\b- \b\b\\ \b\b| \b\b/ \b\b- \b\b\\ \b\b| \b\b/ \b\b- \b\b\\ \b\b| \b\b/ \b\b- \b\b\\ \b\b| \b\b/ \b\b- \b\b\\ \b\b| \b\b/ \b\b- \b\b\\ \b\b| \b\b/ \b\b- \b\b\\ \b\b| \b\b/ \b\bdone\n",
            "\n",
            "\n",
            "==> WARNING: A newer version of conda exists. <==\n",
            "  current version: 23.3.1\n",
            "  latest version: 23.10.0\n",
            "\n",
            "Please update conda by running\n",
            "\n",
            "    $ conda update -n base -c conda-forge conda\n",
            "\n",
            "Or to minimize the number of packages updated during conda update use\n",
            "\n",
            "     conda install conda=23.10.0\n",
            "\n",
            "\n",
            "\n",
            "# All requested packages already installed.\n",
            "\n"
          ]
        }
      ],
      "source": [
        "!conda install -c weinbe58 quspin"
      ]
    },
    {
      "cell_type": "code",
      "source": [
        "import quspin\n",
        "from __future__ import print_function, division\n",
        "import sys,os\n",
        "from quspin.basis import spin_basis_general # Hilbert space spin basis\n",
        "import numpy as np # generic math functions"
      ],
      "metadata": {
        "id": "nDmY0dZoUiW9"
      },
      "execution_count": 3,
      "outputs": []
    },
    {
      "cell_type": "markdown",
      "source": [
        "Now, lets try and build our 2d antiferromagnetic Heisenberg model using:\n",
        "\\begin{equation}\n",
        "\\hat{H} = -\\frac{1}{2} \\sum_{j=1}^{N} \\left( J_x \\sigma_j^x \\sigma_{j+1}^x + J_y \\sigma_j^y \\sigma_{j+1}^y + J_z \\sigma_j^z \\sigma_{j+1}^z \\right)\n",
        "\\end{equation}\n"
      ],
      "metadata": {
        "id": "xfu-YvK3cF-T"
      }
    },
    {
      "cell_type": "code",
      "source": [
        "from quspin.operators import hamiltonian # Hamiltonians and operators\n",
        "from quspin.basis import spin_basis_1d # Hilbert space spin basis\n",
        "import numpy as np # generic math functions"
      ],
      "metadata": {
        "id": "xxYIZaWbc-79"
      },
      "execution_count": 7,
      "outputs": []
    },
    {
      "cell_type": "code",
      "source": [
        "# First, practicing creating a 1d model\n",
        "# Define the system size and coupling constants\n",
        "L = 12  # system size\n",
        "Jx = 1.0  # exchange coupling in the x-direction\n",
        "Jy = 1.0  # exchange coupling in the y-direction\n",
        "Jz = 1.0  # exchange coupling in the z-direction\n",
        "\n",
        "# Set up the spin basis\n",
        "basis=spin_basis_general(L,)"
      ],
      "metadata": {
        "id": "xqVid2J5mGhx"
      },
      "execution_count": 8,
      "outputs": []
    },
    {
      "cell_type": "code",
      "source": [
        "J_xx = [[-Jx/2.0, i, i + 1] for i in range(L-1)]  # OBC\n",
        "J_yy = [[-Jy/2.0, i, i + 1] for i in range(L-1)]  # OBC\n",
        "J_zz = [[-Jz/2.0, i, i + 1] for i in range(L-1)]  # OBC\n",
        "\n",
        "static = [[\"xx\", J_xx], [\"yy\", J_yy], [\"zz\", J_zz]]\n",
        "dynamic = []\n",
        "\n",
        "# compute the time-dependent Heisenberg Hamiltonian\n",
        "H_XYZ = hamiltonian(static, dynamic, basis=basis, dtype=np.float64)\n"
      ],
      "metadata": {
        "colab": {
          "base_uri": "https://localhost:8080/"
        },
        "id": "UJof4LVzhOad",
        "outputId": "966fe7df-8113-4e42-a9d7-36eae0783d88"
      },
      "execution_count": 9,
      "outputs": [
        {
          "output_type": "stream",
          "name": "stdout",
          "text": [
            "Hermiticity check passed!\n",
            "Symmetry checks passed!\n"
          ]
        }
      ]
    },
    {
      "cell_type": "code",
      "source": [
        "##### various exact diagonalisation routines #####\n",
        "# calculate entire spectrum only\n",
        "E=H_XYZ.eigvalsh()\n",
        "print('entire energy spectrum: ', E)\n",
        "# calculate full eigensystem\n",
        "E,V=H_XYZ.eigh()\n",
        "print('full eigensystem: ', E, V)\n",
        "# calculate minimum and maximum energy only\n",
        "Emin,Emax=H_XYZ.eigsh(k=2,which=\"BE\",maxiter=1E4,return_eigenvectors=False)\n",
        "print('minimum and maximum energy only: ', Emin, Emax)\n",
        "# calculate the eigenstate closest to energy E_star\n",
        "E_star = 0.0\n",
        "E,psi_0=H_XYZ.eigsh(k=1,sigma=E_star,maxiter=1E4)\n",
        "psi_0=psi_0.reshape((-1,))\n",
        "print(\"eigenstate closest to energy E_star = 0.0. psi_0: \", psi_0)\n"
      ],
      "metadata": {
        "colab": {
          "base_uri": "https://localhost:8080/"
        },
        "id": "aHta9rBHjYem",
        "outputId": "7f46a8f3-9ef8-4424-a795-31bc36c5f3c5"
      },
      "execution_count": 12,
      "outputs": [
        {
          "output_type": "stream",
          "name": "stdout",
          "text": [
            "entire energy spectrum:  [-5.5        -5.5        -5.5        ...  9.72229587  9.72229587\n",
            " 10.28418127]\n",
            "full eigensystem:  [-5.5        -5.5        -5.5        ...  9.72229587  9.72229587\n",
            " 10.28418127] [[ 0.00000000e+00  0.00000000e+00  0.00000000e+00 ...  0.00000000e+00\n",
            "   0.00000000e+00  0.00000000e+00]\n",
            " [ 2.88675135e-01  0.00000000e+00  0.00000000e+00 ...  0.00000000e+00\n",
            "   0.00000000e+00  0.00000000e+00]\n",
            " [ 2.88675135e-01  0.00000000e+00  0.00000000e+00 ...  0.00000000e+00\n",
            "   0.00000000e+00  0.00000000e+00]\n",
            " ...\n",
            " [ 0.00000000e+00 -5.46468092e-02  1.63509315e-01 ... -5.33326166e-44\n",
            "   1.20352055e-52  1.86286490e-48]\n",
            " [ 0.00000000e+00 -5.46468092e-02  1.63509315e-01 ... -1.21277228e-43\n",
            "   1.15725610e-51  2.10466709e-48]\n",
            " [ 0.00000000e+00  0.00000000e+00  0.00000000e+00 ...  0.00000000e+00\n",
            "   0.00000000e+00  0.00000000e+00]]\n",
            "minimum and maximum energy only:  -5.4999999999999964 10.284181265681063\n",
            "eigenstate closest to energy E_star = 0.0. psi_0:  [ 2.10901282e-18  2.32526252e-18  2.75938310e-18 ... -3.17579909e-18\n",
            "  2.09646234e-18  1.72324743e-18]\n"
          ]
        }
      ]
    },
    {
      "cell_type": "code",
      "source": [
        "# now, for 2d system -- this is a 2x2 system\n",
        "# initializing:\n",
        "Lx = 2  # system size in the x-direction\n",
        "Ly = 2  # system size in the y-direction\n",
        "N_2d = Lx*Ly # total number of sites\n",
        "\n",
        "###### setting up user-defined symmetry transformations for 2d lattice ######\n",
        "s = np.arange(N_2d) # sites [ 0 ,1,2,....]\n",
        "x = s%Lx # x positions for sites\n",
        "y = s//Lx # y positions for sites\n",
        "T_x = (x+1)%Lx + Lx*y # translation along x-direction\n",
        "T_y = x +Lx*((y+1)%Ly) # translation along y-direction\n",
        "P_x = x + Lx*(Ly-y-1) # reflection about x-axis\n",
        "P_y = (Lx-x-1) + Lx*y # reflection about y-axis\n",
        "Z = -(s+1) # spin inversion\n",
        "\n",
        "# Set up the spin basis for a 2D system\n",
        "basis_2d = spin_basis_general(N_2d,kxblock=(T_x, 0 ),kyblock=(T_y, 0 ), pxblock=(P_x, 0 ),pyblock=(P_y, 0 ),zblock=(Z, 0 ), pauli = True) # 2d - basis\n",
        "# print info\n",
        "print(\"Size of 2D H-space: {Ns:d}\".format(Ns=basis_2d.Ns))\n",
        "\n",
        "# defining site coupling ## -1 indicates antiferromagnetic\n",
        "Jxx_2d=[[-1.0 ,i,T_x[i]] for i in range(N_2d)]+[[-1.0 ,i,T_y[i]] for i in range( N_2d)]\n",
        "Jyy_2d=[[-1.0 ,i,T_x[i]] for i in range(N_2d)]+[[-1.0 ,i,T_y[i]] for i in range( N_2d)]\n",
        "Jzz_2d=[[-1.0 ,i,T_x[i]] for i in range(N_2d)]+[[-1.0 ,i,T_y[i]] for i in range( N_2d)]\n",
        "\n",
        "\n",
        "static = [[\"xx\", Jxx_2d], [\"yy\", Jyy_2d], [\"zz\", Jzz_2d]]\n",
        "dynamic = []\n",
        "\n",
        "# compute the time-dependent Heisenberg Hamiltonian for a 2D system\n",
        "H_XYZ_2D = hamiltonian(static, dynamic, basis=basis, dtype=np.float64)\n",
        "\n",
        "##### various exact diagonalisation routines #####\n",
        "# calculate entire spectrum only\n",
        "E=H_XYZ_2D.eigvalsh()\n",
        "print('entire energy spectrum: ', E)\n",
        "# calculate full eigensystem\n",
        "E,V=H_XYZ_2D.eigh()\n",
        "print('eigenvectors: ', V)\n",
        "# calculate minimum and maximum energy only\n",
        "Emin,Emax=H_XYZ_2D.eigsh(k=2,which=\"BE\",maxiter=1E4,return_eigenvectors=False)\n",
        "print('minimum and maximum energy only: ', Emin, Emax)\n",
        "\n",
        "# calculate the eigenstate closest to energy E_star\n",
        "E_star = 0.01\n",
        "E,psi_0=H_XYZ_2D.eigsh(k=1,sigma=E_star,maxiter=1E4)\n",
        "psi_0=psi_0.reshape((-1,))\n",
        "print(\"eigenstate closest to energy E_star = 0.0. psi_0: \", psi_0)\n"
      ],
      "metadata": {
        "colab": {
          "base_uri": "https://localhost:8080/"
        },
        "id": "cQnDiB9RpqjE",
        "outputId": "5f67a080-e6f3-4909-e83d-b11e99a82e15"
      },
      "execution_count": 24,
      "outputs": [
        {
          "output_type": "stream",
          "name": "stdout",
          "text": [
            "Size of 2D H-space: 5\n",
            "Hermiticity check passed!\n",
            "Symmetry checks passed!\n",
            "entire energy spectrum:  [-8.00000000e+00 -8.00000000e+00 -8.00000000e+00 -8.00000000e+00\n",
            " -8.00000000e+00 -1.38522558e-15 -2.44591351e-16 -9.25613743e-17\n",
            "  0.00000000e+00  2.77555756e-17  5.70417003e-17  4.07966641e-16\n",
            "  8.00000000e+00  8.00000000e+00  8.00000000e+00  1.60000000e+01]\n",
            "eigenvectors:  [[ 1.00000000e+00  0.00000000e+00  0.00000000e+00  0.00000000e+00\n",
            "   0.00000000e+00  0.00000000e+00  0.00000000e+00  0.00000000e+00\n",
            "   0.00000000e+00  0.00000000e+00  0.00000000e+00  0.00000000e+00\n",
            "   0.00000000e+00  0.00000000e+00  0.00000000e+00  0.00000000e+00]\n",
            " [ 0.00000000e+00  0.00000000e+00 -5.00000000e-01  0.00000000e+00\n",
            "   0.00000000e+00  0.00000000e+00  0.00000000e+00  0.00000000e+00\n",
            "   0.00000000e+00  0.00000000e+00  0.00000000e+00  7.07106781e-01\n",
            "   0.00000000e+00  5.00000000e-01  0.00000000e+00  0.00000000e+00]\n",
            " [ 0.00000000e+00  0.00000000e+00 -5.00000000e-01  0.00000000e+00\n",
            "   0.00000000e+00  0.00000000e+00 -7.07106781e-01  0.00000000e+00\n",
            "   0.00000000e+00  0.00000000e+00  0.00000000e+00 -3.92523115e-16\n",
            "   0.00000000e+00 -5.00000000e-01  0.00000000e+00  0.00000000e+00]\n",
            " [ 0.00000000e+00  0.00000000e+00  0.00000000e+00 -4.99600361e-16\n",
            "  -4.08248290e-01  7.77156117e-16  0.00000000e+00  2.94822269e-01\n",
            "  -2.15437144e-01  7.30296743e-01 -2.88675135e-01  0.00000000e+00\n",
            "   1.79927510e-16  0.00000000e+00 -5.55111512e-17  2.88675135e-01]\n",
            " [ 0.00000000e+00  0.00000000e+00 -5.00000000e-01  0.00000000e+00\n",
            "   0.00000000e+00  0.00000000e+00  7.07106781e-01  0.00000000e+00\n",
            "   0.00000000e+00  0.00000000e+00  0.00000000e+00 -3.92523115e-16\n",
            "   0.00000000e+00 -5.00000000e-01  0.00000000e+00  0.00000000e+00]\n",
            " [ 0.00000000e+00  0.00000000e+00  0.00000000e+00  0.00000000e+00\n",
            "  -4.08248290e-01  0.00000000e+00  0.00000000e+00  0.00000000e+00\n",
            "   0.00000000e+00  0.00000000e+00  8.66025404e-01  0.00000000e+00\n",
            "   0.00000000e+00  0.00000000e+00  0.00000000e+00  2.88675135e-01]\n",
            " [ 0.00000000e+00  0.00000000e+00  0.00000000e+00  1.93476408e-17\n",
            "  -4.08248290e-01  3.09646140e-47  0.00000000e+00 -8.71576399e-33\n",
            "  -8.71576399e-33 -3.70618640e-17 -7.63686271e-16  0.00000000e+00\n",
            "  -7.07106781e-01  0.00000000e+00 -1.93476408e-17 -5.77350269e-01]\n",
            " [ 0.00000000e+00  0.00000000e+00  0.00000000e+00  5.00000000e-01\n",
            "   0.00000000e+00  1.34607388e-15  0.00000000e+00  5.10647149e-01\n",
            "  -3.73148079e-01 -3.16227766e-01  0.00000000e+00  0.00000000e+00\n",
            "  -7.29489476e-17  0.00000000e+00 -5.00000000e-01  0.00000000e+00]\n",
            " [ 0.00000000e+00  0.00000000e+00 -5.00000000e-01  0.00000000e+00\n",
            "   0.00000000e+00  0.00000000e+00  0.00000000e+00  0.00000000e+00\n",
            "   0.00000000e+00  0.00000000e+00  0.00000000e+00 -7.07106781e-01\n",
            "   0.00000000e+00  5.00000000e-01  0.00000000e+00  0.00000000e+00]\n",
            " [ 0.00000000e+00  0.00000000e+00  0.00000000e+00 -1.93476408e-17\n",
            "  -4.08248290e-01 -3.09646140e-47  0.00000000e+00  8.71576399e-33\n",
            "   8.71576399e-33  3.70618640e-17 -6.46486366e-16  0.00000000e+00\n",
            "   7.07106781e-01  0.00000000e+00  1.93476408e-17 -5.77350269e-01]\n",
            " [ 0.00000000e+00  0.00000000e+00  0.00000000e+00  2.77555756e-16\n",
            "  -4.08248290e-01  7.77156117e-16  0.00000000e+00  2.69781100e-01\n",
            "   6.78639441e-01 -3.65148372e-01 -2.88675135e-01  0.00000000e+00\n",
            "   5.35762268e-17  0.00000000e+00 -1.11022302e-16  2.88675135e-01]\n",
            " [ 0.00000000e+00  0.00000000e+00  0.00000000e+00  5.00000000e-01\n",
            "   0.00000000e+00  7.07106781e-01  0.00000000e+00 -1.83186799e-15\n",
            "  -1.11022302e-16  3.88578059e-16  0.00000000e+00  0.00000000e+00\n",
            "   0.00000000e+00  0.00000000e+00  5.00000000e-01  0.00000000e+00]\n",
            " [ 0.00000000e+00  0.00000000e+00  0.00000000e+00  3.33066907e-16\n",
            "  -4.08248290e-01 -1.55431223e-15  0.00000000e+00 -5.64603370e-01\n",
            "  -4.63202298e-01 -3.65148372e-01 -2.88675135e-01  0.00000000e+00\n",
            "   5.35762268e-17  0.00000000e+00 -1.66533454e-16  2.88675135e-01]\n",
            " [ 0.00000000e+00  0.00000000e+00  0.00000000e+00  5.00000000e-01\n",
            "   0.00000000e+00 -7.07106781e-01  0.00000000e+00  1.83880688e-15\n",
            "   0.00000000e+00  3.33066907e-16  0.00000000e+00  0.00000000e+00\n",
            "   0.00000000e+00  0.00000000e+00  5.00000000e-01  0.00000000e+00]\n",
            " [ 0.00000000e+00  0.00000000e+00  0.00000000e+00  5.00000000e-01\n",
            "   0.00000000e+00 -1.22124533e-15  0.00000000e+00 -5.10647149e-01\n",
            "   3.73148079e-01  3.16227766e-01  0.00000000e+00  0.00000000e+00\n",
            "   0.00000000e+00  0.00000000e+00 -5.00000000e-01  0.00000000e+00]\n",
            " [ 0.00000000e+00  1.00000000e+00  0.00000000e+00  0.00000000e+00\n",
            "   0.00000000e+00  0.00000000e+00  0.00000000e+00  0.00000000e+00\n",
            "   0.00000000e+00  0.00000000e+00  0.00000000e+00  0.00000000e+00\n",
            "   0.00000000e+00  0.00000000e+00  0.00000000e+00  0.00000000e+00]]\n",
            "minimum and maximum energy only:  -8.0 15.999999999999996\n",
            "eigenstate closest to energy E_star = 0.0. psi_0:  [ 2.63867225e-17 -6.38625971e-01  9.87288639e-02 -9.47552482e-02\n",
            " -9.87288639e-02  2.32932613e-02 -2.93939395e-17 -2.35769601e-01\n",
            "  6.38625971e-01 -3.88967700e-18  1.75125055e-01  3.67994780e-02\n",
            " -1.03663068e-01 -3.67994780e-02  2.35769601e-01 -1.31106659e-16]\n"
          ]
        },
        {
          "output_type": "stream",
          "name": "stderr",
          "text": [
            "<ipython-input-24-52e07c39698c>:18: GeneralBasisWarning: mappings for block kxblock and block pyblock produce the same symmetry.\n",
            "  basis_2d = spin_basis_general(N_2d,kxblock=(T_x, 0 ),kyblock=(T_y, 0 ), pxblock=(P_x, 0 ),pyblock=(P_y, 0 ),zblock=(Z, 0 ), pauli = True) # 2d - basis\n",
            "<ipython-input-24-52e07c39698c>:18: GeneralBasisWarning: mappings for block kyblock and block pxblock produce the same symmetry.\n",
            "  basis_2d = spin_basis_general(N_2d,kxblock=(T_x, 0 ),kyblock=(T_y, 0 ), pxblock=(P_x, 0 ),pyblock=(P_y, 0 ),zblock=(Z, 0 ), pauli = True) # 2d - basis\n"
          ]
        }
      ]
    }
  ]
}